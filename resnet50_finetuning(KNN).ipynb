{
  "cells": [
    {
      "cell_type": "markdown",
      "source": [],
      "metadata": {
        "id": "4ICGEcWrDXA_"
      },
      "id": "4ICGEcWrDXA_"
    },
    {
      "cell_type": "markdown",
      "source": [
        "Getting the imports I need\n"
      ],
      "metadata": {
        "id": "vu8bSBf3jqBe"
      },
      "id": "vu8bSBf3jqBe"
    },
    {
      "cell_type": "code",
      "execution_count": null,
      "id": "57ea54c7",
      "metadata": {
        "id": "57ea54c7"
      },
      "outputs": [],
      "source": [
        "import torch\n",
        "import torchvision\n",
        "from torchvision import transforms, datasets\n",
        "from torch import nn\n",
        "!pip install d2l\n",
        "%pip install matplotlib-inline\n",
        "from d2l import torch as d2l\n",
        "import numpy as np\n",
        "from sklearn.neighbors import KNeighborsClassifier\n",
        "from sklearn.linear_model import LogisticRegression\n",
        "from sklearn.svm import LinearSVC"
      ]
    },
    {
      "cell_type": "code",
      "source": [
        "torch.manual_seed(0)\n",
        "np.random.seed(0)"
      ],
      "metadata": {
        "id": "plQ9XlKbC85W"
      },
      "id": "plQ9XlKbC85W",
      "execution_count": null,
      "outputs": []
    },
    {
      "cell_type": "markdown",
      "source": [
        "Unzipping my files so I can get the images in the code\n"
      ],
      "metadata": {
        "id": "Qk1zaQPbj0R4"
      },
      "id": "Qk1zaQPbj0R4"
    },
    {
      "cell_type": "code",
      "execution_count": null,
      "id": "TXkDCAQ1hG3F",
      "metadata": {
        "id": "TXkDCAQ1hG3F"
      },
      "outputs": [],
      "source": [
        "!unzip /content/Training\\ and\\ Validation\\ Data_2023_T1_COMP3010.zip"
      ]
    },
    {
      "cell_type": "code",
      "source": [
        "#the compose function applies transformations to each image in order\n",
        "train_transforms = transforms.Compose([\n",
        "    #randomly rotates image by 30 degrees(for data augmentation purposes)\n",
        "    transforms.RandomRotation(30),\n",
        "    #crops image to a square size of 224*224\n",
        "    transforms.RandomResizedCrop(224),\n",
        "    #flips image horizontally again for augmentation purposes\n",
        "    transforms.RandomHorizontalFlip(),\n",
        "    #converts image to pytorch tensor\n",
        "    transforms.ToTensor(),\n",
        "    #normalising pixel of image\n",
        "    transforms.Normalize([0.485, 0.456, 0.406], [0.229, 0.224, 0.225])\n",
        "])"
      ],
      "metadata": {
        "id": "NufuYsUfvwbA"
      },
      "id": "NufuYsUfvwbA",
      "execution_count": 4,
      "outputs": []
    },
    {
      "cell_type": "code",
      "execution_count": 5,
      "id": "44050211",
      "metadata": {
        "id": "44050211"
      },
      "outputs": [],
      "source": [
        "#doing the same to validation and testing data too\n",
        "val_transforms = transforms.Compose([\n",
        "    transforms.Resize(255),\n",
        "    transforms.CenterCrop(224),\n",
        "    transforms.ToTensor(),\n",
        "    transforms.Normalize([0.485, 0.456, 0.406], [0.229, 0.224, 0.225])\n",
        "])"
      ]
    },
    {
      "cell_type": "code",
      "execution_count": 6,
      "metadata": {
        "id": "-mcGhhFV5iyP"
      },
      "outputs": [],
      "source": [
        "test_transforms = transforms.Compose([\n",
        "    transforms.Resize(255),\n",
        "    transforms.CenterCrop(224),\n",
        "    transforms.ToTensor(),\n",
        "    transforms.Normalize([0.485, 0.456, 0.406], [0.229, 0.224, 0.225])\n",
        "])"
      ],
      "id": "-mcGhhFV5iyP"
    },
    {
      "cell_type": "code",
      "execution_count": 7,
      "id": "88435150",
      "metadata": {
        "id": "88435150"
      },
      "outputs": [],
      "source": [
        "#getting the data from the path and subdirectories\n",
        "data_dir = '/content/Training and Validation Data_2023_T1_COMP3010 (2)/Training and Validation Data_2023_T1_COMP3010/Data/coral image classification'\n",
        "train_data = datasets.ImageFolder(data_dir + '/train', transform=train_transforms)\n",
        "val_data = datasets.ImageFolder(data_dir + '/val', transform=val_transforms)\n",
        "test_data = datasets.ImageFolder(data_dir + '/test', transform=test_transforms)\n",
        "\n",
        "\n"
      ]
    },
    {
      "cell_type": "code",
      "execution_count": 8,
      "id": "e8335951",
      "metadata": {
        "id": "e8335951"
      },
      "outputs": [],
      "source": [
        "#number of samples processed in each batch\n",
        "batch_size = 16\n",
        "#shuffle is for shuffling data before creating batches\n",
        "#the train_data,val_data and test_data are datasets\n",
        "#data loaders iterate over these datasets in batch sizes\n",
        "trainloader = torch.utils.data.DataLoader(train_data, batch_size=batch_size, shuffle=True)\n",
        "valloader = torch.utils.data.DataLoader(val_data, batch_size=batch_size, shuffle=True)\n",
        "testloader = torch.utils.data.DataLoader(test_data, batch_size=batch_size, shuffle=True)"
      ]
    },
    {
      "cell_type": "code",
      "execution_count": null,
      "id": "b4b64cf3",
      "metadata": {
        "id": "b4b64cf3"
      },
      "outputs": [],
      "source": [
        "\n",
        "\n",
        "#loading pre-trained resnet model from the torch library\n",
        "mod = torchvision.models.resnet50(pretrained = True)\n",
        "#this one is not pre-trained has randomised weights\n",
        "rnd = torchvision.models.resnet50()\n",
        "#replaces last fully connected layer with new layer that has same input features as old but new output features,new output\n",
        "#features equal to number of classes in training data\n",
        "\n",
        "\n",
        "print(mod.fc.in_features)\n",
        "print(len(train_data.classes))\n",
        "rnd.fc = nn.Linear(rnd.fc.in_features, len(train_data.classes))\n",
        "#checking if GPU is available\n",
        "device = torch.device(\"cuda:0\" if torch.cuda.is_available() else \"cpu\")\n"
      ]
    },
    {
      "cell_type": "code",
      "source": [
        "torch.cuda.is_available()"
      ],
      "metadata": {
        "id": "9Xf92zBSKmdY"
      },
      "id": "9Xf92zBSKmdY",
      "execution_count": null,
      "outputs": []
    },
    {
      "cell_type": "code",
      "execution_count": 11,
      "id": "ab1cac69",
      "metadata": {
        "id": "ab1cac69"
      },
      "outputs": [],
      "source": [
        "#defining a class that takes in from the nn.module and calling it CNN feature extractor\n",
        "class CNNFeatureExtractor(nn.Module):\n",
        "  #takes in an argument mod which in my case is a pretrained model resnet50\n",
        "    def __init__(self, mod):\n",
        "        super().__init__()\n",
        "        #the nn.seq object is a container for the layers and uses list to get\n",
        "        #all the pretrained layers and excludes out the last layer since thats what we need\n",
        "        self.features = nn.Sequential(*list(mod.children())[:-1])\n",
        "        #x is an input tensor\n",
        "    def forward(self, x):\n",
        "      #input tensor passed through convulutional layer\n",
        "        x = self.features(x)\n",
        "        #reshapes based on batch size and number ofc features\n",
        "        x = x.view(x.size(0), -1)\n",
        "        #returns the tensor\n",
        "        return x\n"
      ]
    },
    {
      "cell_type": "code",
      "execution_count": 12,
      "id": "37DrGtshmog8",
      "metadata": {
        "id": "37DrGtshmog8"
      },
      "outputs": [],
      "source": [
        "mod.to(device)\n",
        "mod.eval()\n",
        "#creating to empty lists with these names\n",
        "features_train = []\n",
        "labels_train = []\n",
        "#just no gradients being computed\n",
        "with torch.no_grad():\n",
        "    #iterating through the trainloader I made initially\n",
        "    for images, labels in trainloader:\n",
        "        #using cuda\n",
        "        images = images.to(device)\n",
        "        labels = labels.to(device)\n",
        "        #passing the images  through mod so i can get features\n",
        "        features = mod(images)\n",
        "        #converting features from tensor to numpy arrays\n",
        "        features_train.extend(features.cpu().numpy().astype(np.float32)) # cast to np.float32\n",
        "        labels_train.extend(labels.cpu().numpy())\n",
        "#doing the same as above for validation and testing\n",
        "features_val = []\n",
        "labels_val = []\n",
        "with torch.no_grad():\n",
        "    for images, labels in valloader:\n",
        "        images = images.to(device)\n",
        "        labels = labels.to(device)\n",
        "        features = mod(images)\n",
        "        features_val.extend(features.cpu().numpy().astype(np.float32)) # cast to np.float32\n",
        "        labels_val.extend(labels.cpu().numpy())\n",
        "\n",
        "features_test = []\n",
        "labels_test = []\n",
        "with torch.no_grad():\n",
        "    for images, labels in testloader:\n",
        "        images = images.to(device)\n",
        "        labels = labels.to(device)\n",
        "        features = mod(images)\n",
        "        features_test.extend(features.cpu().numpy().astype(np.float32)) # cast to np.float32\n",
        "        labels_test.extend(labels.cpu().numpy())\n",
        "\n"
      ]
    },
    {
      "cell_type": "code",
      "source": [
        "torch.cuda.is_available()"
      ],
      "metadata": {
        "id": "XXLvpgc0wbID",
        "colab": {
          "base_uri": "https://localhost:8080/"
        },
        "outputId": "a4aa84e4-2fef-464a-c9bb-04171261af10"
      },
      "id": "XXLvpgc0wbID",
      "execution_count": null,
      "outputs": [
        {
          "output_type": "execute_result",
          "data": {
            "text/plain": [
              "True"
            ]
          },
          "metadata": {},
          "execution_count": 12
        }
      ]
    },
    {
      "cell_type": "code",
      "source": [
        "# training a simple model using extracted CNN features\n",
        "from sklearn.neighbors import KNeighborsClassifier\n",
        "knn = KNeighborsClassifier(n_neighbors=5)\n",
        "knn.fit(features_train, labels_train)\n",
        "\n"
      ],
      "metadata": {
        "id": "zEmM89Vx2YYT",
        "colab": {
          "base_uri": "https://localhost:8080/",
          "height": 75
        },
        "outputId": "690de426-5fd6-4e64-90e9-7a6d9a941b83"
      },
      "id": "zEmM89Vx2YYT",
      "execution_count": 13,
      "outputs": [
        {
          "output_type": "execute_result",
          "data": {
            "text/plain": [
              "KNeighborsClassifier()"
            ],
            "text/html": [
              "<style>#sk-container-id-1 {color: black;background-color: white;}#sk-container-id-1 pre{padding: 0;}#sk-container-id-1 div.sk-toggleable {background-color: white;}#sk-container-id-1 label.sk-toggleable__label {cursor: pointer;display: block;width: 100%;margin-bottom: 0;padding: 0.3em;box-sizing: border-box;text-align: center;}#sk-container-id-1 label.sk-toggleable__label-arrow:before {content: \"▸\";float: left;margin-right: 0.25em;color: #696969;}#sk-container-id-1 label.sk-toggleable__label-arrow:hover:before {color: black;}#sk-container-id-1 div.sk-estimator:hover label.sk-toggleable__label-arrow:before {color: black;}#sk-container-id-1 div.sk-toggleable__content {max-height: 0;max-width: 0;overflow: hidden;text-align: left;background-color: #f0f8ff;}#sk-container-id-1 div.sk-toggleable__content pre {margin: 0.2em;color: black;border-radius: 0.25em;background-color: #f0f8ff;}#sk-container-id-1 input.sk-toggleable__control:checked~div.sk-toggleable__content {max-height: 200px;max-width: 100%;overflow: auto;}#sk-container-id-1 input.sk-toggleable__control:checked~label.sk-toggleable__label-arrow:before {content: \"▾\";}#sk-container-id-1 div.sk-estimator input.sk-toggleable__control:checked~label.sk-toggleable__label {background-color: #d4ebff;}#sk-container-id-1 div.sk-label input.sk-toggleable__control:checked~label.sk-toggleable__label {background-color: #d4ebff;}#sk-container-id-1 input.sk-hidden--visually {border: 0;clip: rect(1px 1px 1px 1px);clip: rect(1px, 1px, 1px, 1px);height: 1px;margin: -1px;overflow: hidden;padding: 0;position: absolute;width: 1px;}#sk-container-id-1 div.sk-estimator {font-family: monospace;background-color: #f0f8ff;border: 1px dotted black;border-radius: 0.25em;box-sizing: border-box;margin-bottom: 0.5em;}#sk-container-id-1 div.sk-estimator:hover {background-color: #d4ebff;}#sk-container-id-1 div.sk-parallel-item::after {content: \"\";width: 100%;border-bottom: 1px solid gray;flex-grow: 1;}#sk-container-id-1 div.sk-label:hover label.sk-toggleable__label {background-color: #d4ebff;}#sk-container-id-1 div.sk-serial::before {content: \"\";position: absolute;border-left: 1px solid gray;box-sizing: border-box;top: 0;bottom: 0;left: 50%;z-index: 0;}#sk-container-id-1 div.sk-serial {display: flex;flex-direction: column;align-items: center;background-color: white;padding-right: 0.2em;padding-left: 0.2em;position: relative;}#sk-container-id-1 div.sk-item {position: relative;z-index: 1;}#sk-container-id-1 div.sk-parallel {display: flex;align-items: stretch;justify-content: center;background-color: white;position: relative;}#sk-container-id-1 div.sk-item::before, #sk-container-id-1 div.sk-parallel-item::before {content: \"\";position: absolute;border-left: 1px solid gray;box-sizing: border-box;top: 0;bottom: 0;left: 50%;z-index: -1;}#sk-container-id-1 div.sk-parallel-item {display: flex;flex-direction: column;z-index: 1;position: relative;background-color: white;}#sk-container-id-1 div.sk-parallel-item:first-child::after {align-self: flex-end;width: 50%;}#sk-container-id-1 div.sk-parallel-item:last-child::after {align-self: flex-start;width: 50%;}#sk-container-id-1 div.sk-parallel-item:only-child::after {width: 0;}#sk-container-id-1 div.sk-dashed-wrapped {border: 1px dashed gray;margin: 0 0.4em 0.5em 0.4em;box-sizing: border-box;padding-bottom: 0.4em;background-color: white;}#sk-container-id-1 div.sk-label label {font-family: monospace;font-weight: bold;display: inline-block;line-height: 1.2em;}#sk-container-id-1 div.sk-label-container {text-align: center;}#sk-container-id-1 div.sk-container {/* jupyter's `normalize.less` sets `[hidden] { display: none; }` but bootstrap.min.css set `[hidden] { display: none !important; }` so we also need the `!important` here to be able to override the default hidden behavior on the sphinx rendered scikit-learn.org. See: https://github.com/scikit-learn/scikit-learn/issues/21755 */display: inline-block !important;position: relative;}#sk-container-id-1 div.sk-text-repr-fallback {display: none;}</style><div id=\"sk-container-id-1\" class=\"sk-top-container\"><div class=\"sk-text-repr-fallback\"><pre>KNeighborsClassifier()</pre><b>In a Jupyter environment, please rerun this cell to show the HTML representation or trust the notebook. <br />On GitHub, the HTML representation is unable to render, please try loading this page with nbviewer.org.</b></div><div class=\"sk-container\" hidden><div class=\"sk-item\"><div class=\"sk-estimator sk-toggleable\"><input class=\"sk-toggleable__control sk-hidden--visually\" id=\"sk-estimator-id-1\" type=\"checkbox\" checked><label for=\"sk-estimator-id-1\" class=\"sk-toggleable__label sk-toggleable__label-arrow\">KNeighborsClassifier</label><div class=\"sk-toggleable__content\"><pre>KNeighborsClassifier()</pre></div></div></div></div></div>"
            ]
          },
          "metadata": {},
          "execution_count": 13
        }
      ]
    },
    {
      "cell_type": "code",
      "source": [
        "# evaluating the performance on validation data\n",
        "train_accuracy = knn.score(features_train, labels_train)\n",
        "print('Training accuracy:', train_accuracy)"
      ],
      "metadata": {
        "colab": {
          "base_uri": "https://localhost:8080/"
        },
        "id": "qKwiFtIS1WmG",
        "outputId": "2311cc4f-975a-4124-9ad8-f867a4a53be2"
      },
      "id": "qKwiFtIS1WmG",
      "execution_count": 18,
      "outputs": [
        {
          "output_type": "stream",
          "name": "stdout",
          "text": [
            "Training accuracy: 0.9418084153983886\n"
          ]
        }
      ]
    },
    {
      "cell_type": "code",
      "source": [
        "# evaluating the performance on validation data\n",
        "val_accuracy = knn.score(features_val, labels_val)\n",
        "print('Validation accuracy:', val_accuracy)"
      ],
      "metadata": {
        "colab": {
          "base_uri": "https://localhost:8080/"
        },
        "id": "WeuQZrrMDshB",
        "outputId": "aabe5d87-f6c8-4b15-a0ec-4b057a87dd2a"
      },
      "id": "WeuQZrrMDshB",
      "execution_count": 19,
      "outputs": [
        {
          "output_type": "stream",
          "name": "stdout",
          "text": [
            "Validation accuracy: 0.9275\n"
          ]
        }
      ]
    },
    {
      "cell_type": "code",
      "source": [
        "# evaluating the performance on testing data\n",
        "test_accuracy = knn.score(features_test, labels_test)\n",
        "print('Testing accuracy:', test_accuracy)\n",
        "\n"
      ],
      "metadata": {
        "id": "4f3OLgnllaK4",
        "colab": {
          "base_uri": "https://localhost:8080/"
        },
        "outputId": "3b5258a0-3dca-44c6-a669-6ef381b3d7cf"
      },
      "id": "4f3OLgnllaK4",
      "execution_count": 20,
      "outputs": [
        {
          "output_type": "stream",
          "name": "stdout",
          "text": [
            "Testing accuracy: 0.92\n"
          ]
        }
      ]
    }
  ],
  "metadata": {
    "accelerator": "GPU",
    "colab": {
      "provenance": []
    },
    "gpuClass": "standard",
    "kernelspec": {
      "display_name": "Python 3 (ipykernel)",
      "language": "python",
      "name": "python3"
    },
    "language_info": {
      "codemirror_mode": {
        "name": "ipython",
        "version": 3
      },
      "file_extension": ".py",
      "mimetype": "text/x-python",
      "name": "python",
      "nbconvert_exporter": "python",
      "pygments_lexer": "ipython3",
      "version": "3.9.13"
    }
  },
  "nbformat": 4,
  "nbformat_minor": 5
}